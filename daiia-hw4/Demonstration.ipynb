{
 "cells": [
  {
   "cell_type": "markdown",
   "metadata": {},
   "source": [
    "# Demonstration"
   ]
  },
  {
   "cell_type": "markdown",
   "metadata": {},
   "source": [
    "## Command-line arguments:\n",
    "    - `-n` or `--bidder_num`: Number of bidders to be used , default: 3\n",
    "    - `-t` or `--auction_type`: Type of auction to be used, default: Dutch\n",
    "    - `-v` or `--item_value`: Real value of the item to be sold, default: 100\n",
    "    - `-c` or `--bidder_config`: Configuration file for the agents, default: None -> random configuration"
   ]
  },
  {
   "cell_type": "markdown",
   "metadata": {},
   "source": [
    "## Dutch Auction"
   ]
  },
  {
   "cell_type": "code",
   "execution_count": null,
   "metadata": {},
   "outputs": [],
   "source": [
    "# Main Scenario - Watch - 1000 euros\n",
    "!hw4.py -n 4 -t Dutch -v 1000 -c cfg/dutch1.json"
   ]
  },
  {
   "cell_type": "markdown",
   "metadata": {},
   "source": [
    "### More"
   ]
  },
  {
   "cell_type": "code",
   "execution_count": null,
   "metadata": {},
   "outputs": [],
   "source": [
    "# Scenario 2 - Painting - 5000 euros\n",
    "!hw4.py -n 4 -t Dutch -v 5000 -c cfg/dutch1.json"
   ]
  },
  {
   "cell_type": "code",
   "execution_count": null,
   "metadata": {},
   "outputs": [],
   "source": [
    "# Scenario 3 - Jewelry - 500 euros\n",
    "!hw4.py -n 4 -t Dutch -v 500 -c cfg/dutch1.json"
   ]
  },
  {
   "cell_type": "code",
   "execution_count": null,
   "metadata": {},
   "outputs": [],
   "source": [
    "# Scenario 4 - Vintage Cars - 200000 euros\n",
    "!hw4.py -n 4 -t Dutch -v 200000 -c cfg/dutch1.json"
   ]
  },
  {
   "cell_type": "markdown",
   "metadata": {},
   "source": [
    "## English Auction"
   ]
  },
  {
   "cell_type": "code",
   "execution_count": null,
   "metadata": {},
   "outputs": [],
   "source": [
    "# Main Scenario - Watch - 1000 euros\n",
    "!hw4.py -n 4 -t English -v 1000 -c cfg/english1.json"
   ]
  },
  {
   "cell_type": "markdown",
   "metadata": {},
   "source": [
    "### More"
   ]
  },
  {
   "cell_type": "code",
   "execution_count": null,
   "metadata": {},
   "outputs": [],
   "source": [
    "# Scenario 2 - Painting - 5000 euros\n",
    "!hw4.py -n 4 -t English -v 5000 "
   ]
  },
  {
   "cell_type": "code",
   "execution_count": null,
   "metadata": {},
   "outputs": [],
   "source": [
    "# Scenario 3 - Jewelry - 500 euros\n",
    "!hw4.py -n 4 -t English -v 500 "
   ]
  },
  {
   "cell_type": "code",
   "execution_count": null,
   "metadata": {},
   "outputs": [],
   "source": [
    "# Scenario 4 - Vintage Cars - 200000 euros\n",
    "!hw4.py -n 4 -t English -v 200000 "
   ]
  },
  {
   "cell_type": "markdown",
   "metadata": {},
   "source": [
    "## Sealed-Bid Auction"
   ]
  },
  {
   "cell_type": "code",
   "execution_count": null,
   "metadata": {},
   "outputs": [],
   "source": [
    "# Main Scenario - Watch - 1000 euros\n",
    "!hw4.py -n 4 -t \"Sealed-Bid\" -v 1000"
   ]
  },
  {
   "cell_type": "markdown",
   "metadata": {},
   "source": [
    "### More"
   ]
  },
  {
   "cell_type": "code",
   "execution_count": null,
   "metadata": {},
   "outputs": [],
   "source": [
    "# Scenario 2 - Painting - 5000 euros\n",
    "!hw4.py -n 4 -t \"Sealed-Bid\" -v 5000"
   ]
  },
  {
   "cell_type": "code",
   "execution_count": null,
   "metadata": {},
   "outputs": [],
   "source": [
    "# Scenario 3 - Jewelry - 500 euros\n",
    "!hw4.py -n 4 -t \"Sealed-Bid\" -v 500"
   ]
  },
  {
   "cell_type": "code",
   "execution_count": null,
   "metadata": {},
   "outputs": [],
   "source": [
    "# Scenario 4 - Vintage Cars - 200000 euros\n",
    "!hw4.py -n 4 -t \"Sealed-Bid\" -v 200000"
   ]
  },
  {
   "cell_type": "markdown",
   "metadata": {},
   "source": [
    "## Vickrey Auction"
   ]
  },
  {
   "cell_type": "code",
   "execution_count": null,
   "metadata": {},
   "outputs": [],
   "source": [
    "# Main Scenario - Watch - 1000 euros\n",
    "!hw4.py -n 4 -t Vickrey -v 1000"
   ]
  },
  {
   "cell_type": "markdown",
   "metadata": {},
   "source": [
    "### More"
   ]
  },
  {
   "cell_type": "code",
   "execution_count": null,
   "metadata": {},
   "outputs": [],
   "source": [
    "# Scenario 2 - Painting - 5000 euros\n",
    "!hw4.py -n 4 -t Vickrey -v 5000"
   ]
  },
  {
   "cell_type": "code",
   "execution_count": null,
   "metadata": {},
   "outputs": [],
   "source": [
    "# Scenario 3 - Jewelry - 500 euros\n",
    "!hw4.py -n 4 -t Vickrey -v 500"
   ]
  },
  {
   "cell_type": "code",
   "execution_count": null,
   "metadata": {},
   "outputs": [],
   "source": [
    "# Scenario 4 - Vintage Cars - 200000 euros\n",
    "!hw4.py -n 4 -t Vickrey -v 200000"
   ]
  }
 ],
 "metadata": {
  "kernelspec": {
   "display_name": ".venv",
   "language": "python",
   "name": "python3"
  },
  "language_info": {
   "codemirror_mode": {
    "name": "ipython",
    "version": 3
   },
   "file_extension": ".py",
   "mimetype": "text/x-python",
   "name": "python",
   "nbconvert_exporter": "python",
   "pygments_lexer": "ipython3",
   "version": "3.11.6"
  }
 },
 "nbformat": 4,
 "nbformat_minor": 2
}
