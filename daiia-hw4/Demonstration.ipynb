{
 "cells": [
  {
   "cell_type": "markdown",
   "metadata": {},
   "source": [
    "# Demonstration"
   ]
  },
  {
   "cell_type": "markdown",
   "metadata": {},
   "source": [
    "## Command-line arguments:\n",
    "    - `-n` or `--bidder_num`: Number of bidders to be used , default: 3\n",
    "    - `-t` or `--auction_type`: Type of auction to be used, default: Dutch\n",
    "    - `-v` or `--item_value`: Real value of the item to be sold, default: 100\n",
    "    - `-c` or `--bidder_config`: Configuration file for the agents, default: None -> random configuration"
   ]
  },
  {
   "cell_type": "markdown",
   "metadata": {},
   "source": [
    "## Dutch Auction"
   ]
  },
  {
   "cell_type": "code",
   "execution_count": null,
   "metadata": {},
   "outputs": [],
   "source": [
    "# Main Scenario - Watch - 1000 euros\n",
    "!hw4.py -n 4 -t Dutch -v 1000 -c cfg/dutch1.json"
   ]
  },
  {
   "cell_type": "markdown",
   "metadata": {},
   "source": [
    "### More"
   ]
  },
  {
   "cell_type": "code",
   "execution_count": null,
   "metadata": {},
   "outputs": [],
   "source": [
    "# Scenario 2 - Painting - 5000 euros\n",
    "!hw4.py -n 4 -t Dutch -v 5000 -c cfg/dutch2.json"
   ]
  },
  {
   "cell_type": "code",
   "execution_count": null,
   "metadata": {},
   "outputs": [],
   "source": [
    "# Scenario 3 - Jewelry - 500 euros\n",
    "!hw4.py -n 4 -t Dutch -v 500 -c cfg/dutch3.json"
   ]
  },
  {
   "cell_type": "code",
   "execution_count": null,
   "metadata": {},
   "outputs": [],
   "source": [
    "# Scenario 4 - Vintage Cars - 200000 euros\n",
    "!hw4.py -n 4 -t Dutch -v 200000 -c cfg/dutch4.json"
   ]
  },
  {
   "cell_type": "markdown",
   "metadata": {},
   "source": [
    "## English Auction"
   ]
  },
  {
   "cell_type": "code",
   "execution_count": null,
   "metadata": {},
   "outputs": [],
   "source": [
    "# Main Scenario - Watch - 1000 euros\n",
    "!hw4.py -n 4 -t English -v 1000 -c cfg/english1.json"
   ]
  },
  {
   "cell_type": "markdown",
   "metadata": {},
   "source": [
    "### More"
   ]
  },
  {
   "cell_type": "code",
   "execution_count": 1,
   "metadata": {},
   "outputs": [
    {
     "name": "stdout",
     "output_type": "stream",
     "text": [
      "\u001b[33mAuctioneer\u001b[0m (to Auction Chat):\n",
      "\n",
      "Value of the item is 5000 euros.\n",
      "\n",
      "--------------------------------------------------------------------------------\n",
      "\u001b[33mBidder1\u001b[0m (to Auction Chat):\n",
      "\n",
      "1 5188\n",
      "\n",
      "--------------------------------------------------------------------------------\n",
      "\u001b[33mBidder2\u001b[0m (to Auction Chat):\n",
      "\n",
      "2 5419\n",
      "\n",
      "--------------------------------------------------------------------------------\n",
      "\u001b[33mBidder3\u001b[0m (to Auction Chat):\n",
      "\n",
      "3 5550\n",
      "\n",
      "--------------------------------------------------------------------------------\n",
      "\u001b[33mBidder4\u001b[0m (to Auction Chat):\n",
      "\n",
      "4 5570\n",
      "\n",
      "--------------------------------------------------------------------------------\n",
      "\u001b[33mAuctioneer\u001b[0m (to Auction Chat):\n",
      "\n",
      "The highest bid is now 5570 euros from Bidder4. Do I hear a higher bid?\n",
      "\n",
      "--------------------------------------------------------------------------------\n",
      "\u001b[33mBidder1\u001b[0m (to Auction Chat):\n",
      "\n",
      "1 5758\n",
      "\n",
      "--------------------------------------------------------------------------------\n",
      "\u001b[33mBidder2\u001b[0m (to Auction Chat):\n",
      "\n",
      "2 5989\n",
      "\n",
      "--------------------------------------------------------------------------------\n",
      "\u001b[33mBidder3\u001b[0m (to Auction Chat):\n",
      "\n",
      "3 6120\n",
      "\n",
      "--------------------------------------------------------------------------------\n",
      "\u001b[33mBidder4\u001b[0m (to Auction Chat):\n",
      "\n",
      "4 6140\n",
      "\n",
      "--------------------------------------------------------------------------------\n",
      "\u001b[33mAuctioneer\u001b[0m (to Auction Chat):\n",
      "\n",
      "The highest bid is now 6140 euros from Bidder4. Do I hear a higher bid?\n",
      "\n",
      "--------------------------------------------------------------------------------\n",
      "\u001b[33mBidder1\u001b[0m (to Auction Chat):\n",
      "\n",
      "1 6328\n",
      "\n",
      "--------------------------------------------------------------------------------\n",
      "\u001b[33mBidder2\u001b[0m (to Auction Chat):\n",
      "\n",
      "2 6559\n",
      "\n",
      "--------------------------------------------------------------------------------\n",
      "\u001b[33mBidder3\u001b[0m (to Auction Chat):\n",
      "\n",
      "3 6690\n",
      "\n",
      "--------------------------------------------------------------------------------\n",
      "\u001b[33mBidder4\u001b[0m (to Auction Chat):\n",
      "\n",
      "4 6710\n",
      "\n",
      "--------------------------------------------------------------------------------\n",
      "\u001b[33mAuctioneer\u001b[0m (to Auction Chat):\n",
      "\n",
      "The highest bid is now 6710 euros from Bidder4. Do I hear a higher bid?\n",
      "\n",
      "--------------------------------------------------------------------------------\n",
      "\u001b[33mBidder1\u001b[0m (to Auction Chat):\n",
      "\n",
      "1 6898\n",
      "\n",
      "--------------------------------------------------------------------------------\n",
      "\u001b[33mBidder2\u001b[0m (to Auction Chat):\n",
      "\n",
      "2 7129\n",
      "\n",
      "--------------------------------------------------------------------------------\n",
      "\u001b[33mBidder3\u001b[0m (to Auction Chat):\n",
      "\n",
      "3 7260\n",
      "\n",
      "--------------------------------------------------------------------------------\n",
      "\u001b[33mBidder4\u001b[0m (to Auction Chat):\n",
      "\n",
      "4 QUIT\n",
      "\n",
      "--------------------------------------------------------------------------------\n",
      "\u001b[33mAuctioneer\u001b[0m (to Auction Chat):\n",
      "\n",
      "The highest bid is now 7260 euros from Bidder3. Do I hear a higher bid?\n",
      "\n",
      "--------------------------------------------------------------------------------\n",
      "\u001b[33mBidder1\u001b[0m (to Auction Chat):\n",
      "\n",
      "1 7448\n",
      "\n",
      "--------------------------------------------------------------------------------\n",
      "\u001b[33mBidder2\u001b[0m (to Auction Chat):\n",
      "\n",
      "2 7679\n",
      "\n",
      "--------------------------------------------------------------------------------\n",
      "\u001b[33mBidder3\u001b[0m (to Auction Chat):\n",
      "\n",
      "3 7810\n",
      "\n",
      "--------------------------------------------------------------------------------\n",
      "\u001b[33mBidder4\u001b[0m (to Auction Chat):\n",
      "\n",
      "4 QUIT\n",
      "\n",
      "--------------------------------------------------------------------------------\n",
      "\u001b[33mAuctioneer\u001b[0m (to Auction Chat):\n",
      "\n",
      "The highest bid is now 7810 euros from Bidder3. Do I hear a higher bid?\n",
      "\n",
      "--------------------------------------------------------------------------------\n",
      "\u001b[33mBidder1\u001b[0m (to Auction Chat):\n",
      "\n",
      "1 QUIT\n",
      "\n",
      "--------------------------------------------------------------------------------\n",
      "\u001b[33mBidder2\u001b[0m (to Auction Chat):\n",
      "\n",
      "2 QUIT\n",
      "\n",
      "--------------------------------------------------------------------------------\n",
      "\u001b[33mBidder3\u001b[0m (to Auction Chat):\n",
      "\n",
      "3 QUIT\n",
      "\n",
      "--------------------------------------------------------------------------------\n",
      "\u001b[33mBidder4\u001b[0m (to Auction Chat):\n",
      "\n",
      "4 QUIT\n",
      "\n",
      "--------------------------------------------------------------------------------\n",
      "\u001b[33mAuctioneer\u001b[0m (to Auction Chat):\n",
      "\n",
      "The winner is Bidder3 with a bid of 7810 euros. END OF AUCTION.\n",
      "\n",
      "--------------------------------------------------------------------------------\n"
     ]
    }
   ],
   "source": [
    "# Scenario 2 - Painting - 5000 euros\n",
    "!hw4.py -n 4 -t English -v 5000"
   ]
  },
  {
   "cell_type": "code",
   "execution_count": null,
   "metadata": {},
   "outputs": [],
   "source": [
    "# Scenario 3 - Jewelry - 500 euros\n",
    "!hw4.py -n 4 -t English -v 500 "
   ]
  },
  {
   "cell_type": "code",
   "execution_count": null,
   "metadata": {},
   "outputs": [],
   "source": [
    "# Scenario 4 - Vintage Cars - 200000 euros\n",
    "!hw4.py -n 4 -t English -v 200000 "
   ]
  },
  {
   "cell_type": "markdown",
   "metadata": {},
   "source": [
    "## Sealed-Bid Auction"
   ]
  },
  {
   "cell_type": "code",
   "execution_count": null,
   "metadata": {},
   "outputs": [],
   "source": [
    "# Main Scenario - Watch - 1000 euros\n",
    "!hw4.py -n 4 -t \"Sealed-Bid\" -v 1000"
   ]
  },
  {
   "cell_type": "markdown",
   "metadata": {},
   "source": [
    "### More"
   ]
  },
  {
   "cell_type": "code",
   "execution_count": null,
   "metadata": {},
   "outputs": [],
   "source": [
    "# Scenario 2 - Painting - 5000 euros\n",
    "!hw4.py -n 4 -t \"Sealed-Bid\" -v 5000"
   ]
  },
  {
   "cell_type": "code",
   "execution_count": null,
   "metadata": {},
   "outputs": [],
   "source": [
    "# Scenario 3 - Jewelry - 500 euros\n",
    "!hw4.py -n 4 -t \"Sealed-Bid\" -v 500"
   ]
  },
  {
   "cell_type": "code",
   "execution_count": null,
   "metadata": {},
   "outputs": [],
   "source": [
    "# Scenario 4 - Vintage Cars - 200000 euros\n",
    "!hw4.py -n 4 -t \"Sealed-Bid\" -v 200000"
   ]
  },
  {
   "cell_type": "markdown",
   "metadata": {},
   "source": [
    "## Vickrey Auction"
   ]
  },
  {
   "cell_type": "code",
   "execution_count": null,
   "metadata": {},
   "outputs": [],
   "source": [
    "# Main Scenario - Watch - 1000 euros\n",
    "!hw4.py -n 4 -t Vickrey -v 1000"
   ]
  },
  {
   "cell_type": "markdown",
   "metadata": {},
   "source": [
    "### More"
   ]
  },
  {
   "cell_type": "code",
   "execution_count": null,
   "metadata": {},
   "outputs": [],
   "source": [
    "# Scenario 2 - Painting - 5000 euros\n",
    "!hw4.py -n 4 -t Vickrey -v 5000"
   ]
  },
  {
   "cell_type": "code",
   "execution_count": null,
   "metadata": {},
   "outputs": [],
   "source": [
    "# Scenario 3 - Jewelry - 500 euros\n",
    "!hw4.py -n 4 -t Vickrey -v 500"
   ]
  },
  {
   "cell_type": "code",
   "execution_count": null,
   "metadata": {},
   "outputs": [],
   "source": [
    "# Scenario 4 - Vintage Cars - 200000 euros\n",
    "!hw4.py -n 4 -t Vickrey -v 200000"
   ]
  }
 ],
 "metadata": {
  "kernelspec": {
   "display_name": ".venv",
   "language": "python",
   "name": "python3"
  },
  "language_info": {
   "codemirror_mode": {
    "name": "ipython",
    "version": 3
   },
   "file_extension": ".py",
   "mimetype": "text/x-python",
   "name": "python",
   "nbconvert_exporter": "python",
   "pygments_lexer": "ipython3",
   "version": "3.11.7"
  }
 },
 "nbformat": 4,
 "nbformat_minor": 2
}
